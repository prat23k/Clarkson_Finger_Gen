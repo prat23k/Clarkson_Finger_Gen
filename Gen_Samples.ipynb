{
  "nbformat": 4,
  "nbformat_minor": 0,
  "metadata": {
    "kernelspec": {
      "display_name": "Python 3",
      "language": "python",
      "name": "python3"
    },
    "language_info": {
      "codemirror_mode": {
        "name": "ipython",
        "version": 3
      },
      "file_extension": ".py",
      "mimetype": "text/x-python",
      "name": "python",
      "nbconvert_exporter": "python",
      "pygments_lexer": "ipython3",
      "version": "3.6.8"
    },
    "colab": {
      "name": "Gen_Samples.ipynb",
      "provenance": []
    },
    "accelerator": "GPU"
  },
  "cells": [
    {
      "cell_type": "code",
      "metadata": {
        "id": "Ng4P3Zuri_Z8"
      },
      "source": [
        "%tensorflow_version 1.x"
      ],
      "execution_count": null,
      "outputs": []
    },
    {
      "cell_type": "code",
      "metadata": {
        "id": "hcDlSfu4jc2t"
      },
      "source": [
        "!wget --load-cookies /tmp/cookies.txt \"https://docs.google.com/uc?export=download&confirm=$(wget --quiet --save-cookies /tmp/cookies.txt --keep-session-cookies --no-check-certificate 'https://docs.google.com/uc?export=download&id=1ovYLYG7e15QqOafzvy_nhxUeKM9uxyXd' -O- | sed -rn 's/.*confirm=([0-9A-Za-z_]+).*/\\1\\n/p')&id=1ovYLYG7e15QqOafzvy_nhxUeKM9uxyXd\" -O Clarkson_Finger_Generator.pkl && rm -rf /tmp/cookies.txt"
      ],
      "execution_count": null,
      "outputs": []
    },
    {
      "cell_type": "code",
      "metadata": {
        "id": "J2qQo3k1jExA"
      },
      "source": [
        "!git clone https://github.com/prat23k/Clarkson_Finger_Gen"
      ],
      "execution_count": null,
      "outputs": []
    },
    {
      "cell_type": "code",
      "metadata": {
        "id": "O5tQe-koh8cI"
      },
      "source": [
        "import os\n",
        "import sys\n",
        "new_path = '/content/Clarkson_Finger_Gen/stylegan_K1/'\n",
        "sys.path.append(new_path)\n",
        "import pickle\n",
        "import numpy as np\n",
        "import PIL.Image\n",
        "import dnnlib\n",
        "import dnnlib.tflib as tflib\n",
        "import config\n",
        "import io\n",
        "import matplotlib.pyplot as plt"
      ],
      "execution_count": null,
      "outputs": []
    },
    {
      "cell_type": "code",
      "metadata": {
        "id": "jvq0faZhh8cx"
      },
      "source": [
        "'''Loading Pre trained network'''\n",
        "tflib.init_tf()\n",
        "f = open('/content/Clarkson_Finger_Generator.pkl', 'rb')\n",
        "_G, _D, Gs = pickle.load(f)"
      ],
      "execution_count": null,
      "outputs": []
    },
    {
      "cell_type": "code",
      "metadata": {
        "id": "QO3JNdLAh8c5"
      },
      "source": [
        "# Pick latent vector.\n",
        "rnd = np.random.RandomState(100)\n",
        "latents = rnd.randn(32, Gs.input_shape[1])\n",
        "\n",
        "# Generate image.\n",
        "fmt = dict(func=tflib.convert_images_to_uint8, nchw_to_nhwc=True)\n",
        "images = Gs.run(latents, None, truncation_psi=1, randomize_noise=True, output_transform=fmt)\n",
        "images = np.transpose(images,(0,3, 1, 2))"
      ],
      "execution_count": null,
      "outputs": []
    },
    {
      "cell_type": "code",
      "metadata": {
        "id": "qLSiHyRnh8dV"
      },
      "source": [
        "fig, ax = plt.subplots(8,4, figsize=(30,30))\n",
        "for i in range(32):\n",
        "    r = int(i%4)\n",
        "    c = int(i/4)\n",
        "    ax[c,r].imshow(np.transpose(np.squeeze(images[i,:,:,:]), (1,2,0)))"
      ],
      "execution_count": null,
      "outputs": []
    }
  ]
}
